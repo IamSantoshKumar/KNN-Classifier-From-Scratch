{
 "cells": [
  {
   "cell_type": "code",
   "execution_count": 2,
   "id": "944af73d",
   "metadata": {},
   "outputs": [],
   "source": [
    "import numpy as np\n",
    "from scipy.stats import mode\n",
    "from sklearn.model_selection import train_test_split\n",
    "from sklearn.datasets import load_breast_cancer"
   ]
  },
  {
   "cell_type": "code",
   "execution_count": 3,
   "id": "935d4f12",
   "metadata": {},
   "outputs": [],
   "source": [
    "data = load_breast_cancer()\n",
    "\n",
    "X = data.data\n",
    "y = data.target"
   ]
  },
  {
   "cell_type": "code",
   "execution_count": 4,
   "id": "4d82babb",
   "metadata": {},
   "outputs": [],
   "source": [
    "X_train, X_test, y_train, y_test = train_test_split(X, y, test_size=0.2, stratify=y, shuffle=True, random_state=42)"
   ]
  },
  {
   "cell_type": "code",
   "execution_count": 5,
   "id": "da74ef97",
   "metadata": {},
   "outputs": [
    {
     "data": {
      "text/plain": [
       "((455, 30), (114, 30))"
      ]
     },
     "execution_count": 5,
     "metadata": {},
     "output_type": "execute_result"
    }
   ],
   "source": [
    "X_train.shape, X_test.shape"
   ]
  },
  {
   "cell_type": "code",
   "execution_count": 33,
   "id": "2328d5fc",
   "metadata": {},
   "outputs": [],
   "source": [
    "import numpy as np\n",
    "from scipy.stats import mode\n",
    "\n",
    "\"\"\"\n",
    "KNN (K-Nearest Neighbors) is a simple machine learning algorithm that can be used for both regression and classification problems.\n",
    "It's a non-parametric and instance-based method, meaning that the model does not explicitly learn from the training data, \n",
    "but instead makes predictions based on the closest training instances to a given test sample.\n",
    "The prediction for a test sample is based on the majority vote of its k nearest neighbors in the training data.\n",
    "The value of k determines the number of neighbors that will be considered, and the distance metric used to find the nearest neighbors.\n",
    "\"\"\"\n",
    "\n",
    "class KNNClassifier(object):\n",
    "    \n",
    "    def __init__(self, n_neighbors: int=3):\n",
    "        self.n_neighbors=n_neighbors\n",
    "        \n",
    "    def __repr__(self):\n",
    "        return f\"KNNClassifier(n_neighbors={self.n_neighbors})\"\n",
    "    \n",
    "    #to caalculate distance between two points in a multidimensional space\n",
    "    def _euclidean_distance(self, x1: np.ndarray, x2: np.ndarray) -> np.ndarray:\n",
    "        return np.sqrt(np.sum((x1-x2)**2))\n",
    "    \n",
    "    #fit the the model\n",
    "    def fit(self, x: np.ndarray, y: np.ndarray) -> np.ndarray:\n",
    "        self.X=x\n",
    "        self.y=y\n",
    "        return self\n",
    "    \n",
    "    def predict(self, x: np.ndarray) -> np.ndarray:\n",
    "        return np.array([self._predict(points) for points in x]).flatten()\n",
    "    \n",
    "    def _predict(self, test: np.ndarray):\n",
    "        self.distances = np.argsort([self._euclidean_distance(x, test) for x in self.X])\n",
    "        preds = self.y[self.distances[self.n_neighbors]]\n",
    "        preds = mode(preds, axis=0)[0]\n",
    "        return preds\n",
    "    "
   ]
  },
  {
   "cell_type": "code",
   "execution_count": 34,
   "id": "962b4d83",
   "metadata": {},
   "outputs": [],
   "source": [
    "model = KNNClassifier(n_neighbors=10)"
   ]
  },
  {
   "cell_type": "code",
   "execution_count": 35,
   "id": "3bb8b224",
   "metadata": {},
   "outputs": [
    {
     "data": {
      "text/plain": [
       "KNNClassifier(n_neighbors=10)"
      ]
     },
     "execution_count": 35,
     "metadata": {},
     "output_type": "execute_result"
    }
   ],
   "source": [
    "model.fit(X_train, y_train)"
   ]
  },
  {
   "cell_type": "code",
   "execution_count": 36,
   "id": "c3460234",
   "metadata": {},
   "outputs": [],
   "source": [
    "predicted = model.predict(X_test)"
   ]
  },
  {
   "cell_type": "code",
   "execution_count": 37,
   "id": "0445901d",
   "metadata": {},
   "outputs": [
    {
     "data": {
      "text/plain": [
       "93.85964912280701"
      ]
     },
     "execution_count": 37,
     "metadata": {},
     "output_type": "execute_result"
    }
   ],
   "source": [
    "np.sum(y_test==predicted)/y_test.shape[0] * 100"
   ]
  },
  {
   "cell_type": "code",
   "execution_count": null,
   "id": "8a322bf0",
   "metadata": {},
   "outputs": [],
   "source": []
  }
 ],
 "metadata": {
  "kernelspec": {
   "display_name": "Python 3 (ipykernel)",
   "language": "python",
   "name": "python3"
  },
  "language_info": {
   "codemirror_mode": {
    "name": "ipython",
    "version": 3
   },
   "file_extension": ".py",
   "mimetype": "text/x-python",
   "name": "python",
   "nbconvert_exporter": "python",
   "pygments_lexer": "ipython3",
   "version": "3.8.12"
  }
 },
 "nbformat": 4,
 "nbformat_minor": 5
}
